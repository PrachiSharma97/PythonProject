{
 "cells": [
  {
   "cell_type": "code",
   "execution_count": 2,
   "metadata": {},
   "outputs": [
    {
     "name": "stdout",
     "output_type": "stream",
     "text": [
      "Hello World !!!\n"
     ]
    }
   ],
   "source": [
    "#Print Statement : to get the statement/result on console\n",
    "print(\"Hello World !!!\")"
   ]
  },
  {
   "cell_type": "code",
   "execution_count": 3,
   "metadata": {},
   "outputs": [
    {
     "name": "stdout",
     "output_type": "stream",
     "text": [
      "    /|\n",
      "   / |\n",
      "  /  |\n",
      " /___|\n"
     ]
    }
   ],
   "source": [
    "print(\"    /|\")\n",
    "print(\"   / |\")\n",
    "print(\"  /  |\")\n",
    "print(\" /___|\")"
   ]
  },
  {
   "cell_type": "code",
   "execution_count": 7,
   "metadata": {},
   "outputs": [
    {
     "name": "stdout",
     "output_type": "stream",
     "text": [
      "There's a guy named John.\n",
      "He is 23 years old\n"
     ]
    }
   ],
   "source": [
    "#Variable & Data Types\n",
    "c_name = \"John\" #String Datatype\n",
    "c_age = 23 #Number/Integer Datatype\n",
    "is_male = True #Boolean\n",
    "print(\"There's a guy named \" + c_name+ \".\")\n",
    "print(\"He is \"+ str(c_age) + \" years old\")"
   ]
  },
  {
   "cell_type": "code",
   "execution_count": 20,
   "metadata": {},
   "outputs": [
    {
     "name": "stdout",
     "output_type": "stream",
     "text": [
      "A\n",
      "B\n",
      "A\"B\n",
      "John is a guy\n",
      "john\n",
      "JOHN\n",
      "False\n",
      "4\n",
      "J\n",
      "1\n",
      "Richie\n"
     ]
    }
   ],
   "source": [
    "#Working with Strings\n",
    "print(\"A\\nB\") #for new line\n",
    "print(\"A\\\"B\") #for \" sign\n",
    "print (c_name + \" is a guy\")  # for concatenation\n",
    "print(c_name.lower()) #for lowercase\n",
    "print(c_name.upper()) #for uppercase\n",
    "print(c_name.isupper()) # to check\n",
    "print(len(c_name)) #to check the length\n",
    "print(c_name[0]) #to get the character at position[]\n",
    "print(c_name.index('o'))\n",
    "print(c_name.replace(\"John\", \"Richie\"))"
   ]
  },
  {
   "cell_type": "code",
   "execution_count": 26,
   "metadata": {},
   "outputs": [
    {
     "name": "stdout",
     "output_type": "stream",
     "text": [
      "53\n",
      "5\n",
      "9\n"
     ]
    }
   ],
   "source": [
    "#Dealing with Numbers\n",
    "print(3 + 5 * 10) # doing maths\n",
    "type ((str (3))) # typecasting\n",
    "num = -5\n",
    "print(abs(num))\n",
    "print (pow(3,2)) #getting powers"
   ]
  },
  {
   "cell_type": "code",
   "execution_count": 28,
   "metadata": {},
   "outputs": [
    {
     "name": "stdout",
     "output_type": "stream",
     "text": [
      "Enter first number3\n",
      "Enter second number5.6\n",
      "The result is  8.6\n"
     ]
    }
   ],
   "source": [
    "#Calculator\n",
    "num1 =input(\"Enter first number\")\n",
    "num2 = input(\"Enter second number\")\n",
    "result = float (num1) + float(num2)\n",
    "print (\"The result is \", result)"
   ]
  },
  {
   "cell_type": "code",
   "execution_count": 32,
   "metadata": {},
   "outputs": [
    {
     "name": "stdout",
     "output_type": "stream",
     "text": [
      "Enter a nameJoey\n",
      "Enter a colorblue\n",
      "Enter a food itemice- cream\n",
      "Hello !!! My name is  Joey  and I like to have a  blue  coloured  ice- cream  !!!\n"
     ]
    }
   ],
   "source": [
    "#Mad Libs Game\n",
    "name = input(\"Enter a name\")\n",
    "color = input (\"Enter a color\")\n",
    "food = input(\"Enter a food item\")\n",
    "print(\"Hello !!! My name is \", name, \" and I like to have a \", color, \" coloured \", food, \" !!!\")"
   ]
  },
  {
   "cell_type": "code",
   "execution_count": 49,
   "metadata": {},
   "outputs": [
    {
     "name": "stdout",
     "output_type": "stream",
     "text": [
      "['Cavin', 'Jeremy', 'Keeve']\n",
      "Cavin\n",
      "3\n",
      "['Cavin', 'Jeremy']\n",
      "Keeve\n",
      "['Cavin', 'Jeremy', 'Keeve', 'Mike']\n",
      "['Cavin', 'Jeremy', 'Kim', 'Keeve', 'Mike']\n",
      "['Cavin', 'Jeremy', 'Keeve', 'Mike']\n",
      "Mike\n",
      "1\n",
      "['Cavin', 'Jeremy', 'Keeve']\n",
      "['Keeve', 'Jeremy', 'Cavin']\n",
      "['Keeve', 'Jeremy', 'Cavin']\n"
     ]
    }
   ],
   "source": [
    "#Lists\n",
    "names = ['Cavin', 'Jeremy', 'Keeve']\n",
    "print(names)\n",
    "print(names[0])\n",
    "print(len(names))\n",
    "print(names[0:2])\n",
    "print(names[-1])\n",
    "names.append(\"Mike\")\n",
    "print(names)\n",
    "names.insert(2, \"Kim\")\n",
    "print(names)\n",
    "names.remove(\"Kim\")\n",
    "print(names)\n",
    "print(names.pop())\n",
    "print(names.count(\"Cavin\"))\n",
    "names.sort()\n",
    "print(names)\n",
    "names.reverse()\n",
    "print(names)\n",
    "names2= names.copy()\n",
    "print(names2)"
   ]
  },
  {
   "cell_type": "code",
   "execution_count": 50,
   "metadata": {},
   "outputs": [
    {
     "name": "stdout",
     "output_type": "stream",
     "text": [
      "2\n"
     ]
    }
   ],
   "source": [
    "#Tuples\n",
    "tup = (1,2,3)\n",
    "print(tup[1])"
   ]
  },
  {
   "cell_type": "code",
   "execution_count": 52,
   "metadata": {},
   "outputs": [
    {
     "name": "stdout",
     "output_type": "stream",
     "text": [
      " Hi  Alex  !!!\n"
     ]
    }
   ],
   "source": [
    "#Functions\n",
    "def say (name):\n",
    "    print(\" Hi \", name, \" !!!\")\n",
    "say(\"Alex\")"
   ]
  },
  {
   "cell_type": "code",
   "execution_count": 56,
   "metadata": {},
   "outputs": [
    {
     "name": "stdout",
     "output_type": "stream",
     "text": [
      "5\n",
      "27.0\n"
     ]
    }
   ],
   "source": [
    "#Return Statement\n",
    "from math import *\n",
    "def add (a,b):\n",
    "    sum = a+ b\n",
    "    return (sum)\n",
    "print(add(3,2))\n",
    "def cube(a,b):\n",
    "    c_res = pow(a,b)\n",
    "    return (c_res)\n",
    "print (cube(3,3))"
   ]
  },
  {
   "cell_type": "code",
   "execution_count": 57,
   "metadata": {},
   "outputs": [
    {
     "name": "stdout",
     "output_type": "stream",
     "text": [
      "It's a Sunday !!\n"
     ]
    }
   ],
   "source": [
    "#If-Else\n",
    "is_Sunday = True\n",
    "if is_Sunday:\n",
    "    print(\"It's a Sunday !!\")\n",
    "else:\n",
    "    print(\"It's not a Sunday !!\")"
   ]
  },
  {
   "cell_type": "code",
   "execution_count": 60,
   "metadata": {},
   "outputs": [
    {
     "name": "stdout",
     "output_type": "stream",
     "text": [
      "12  is the largest\n"
     ]
    }
   ],
   "source": [
    "def max(a,b,c):\n",
    "    if (a>b and a>c):\n",
    "        print(a , \" is the largest\")\n",
    "    elif (b>a and b>c):\n",
    "        print(b , \" is the largest\")\n",
    "    else:\n",
    "        print(c , \" is the largest\")\n",
    "max(3,12,11)"
   ]
  },
  {
   "cell_type": "code",
   "execution_count": 64,
   "metadata": {},
   "outputs": [
    {
     "name": "stdout",
     "output_type": "stream",
     "text": [
      "Enter the first number34\n",
      "Enter the secod number6\n",
      "Enter the operator+\n",
      "40.0\n"
     ]
    }
   ],
   "source": [
    "#Calculator\n",
    "n1 = float (input(\"Enter the first number\"))\n",
    "n2 = float(input(\"Enter the secod number\"))\n",
    "op = input(\"Enter the operator\")\n",
    "if op == '+':\n",
    "    print(n1 + n2)\n",
    "elif op == \"-\":\n",
    "    print(n1 - n2)\n",
    "elif op == \"*\":\n",
    "        print(n1*n2)\n",
    "else: \n",
    "    print(n1/n2)"
   ]
  },
  {
   "cell_type": "code",
   "execution_count": 70,
   "metadata": {},
   "outputs": [
    {
     "name": "stdout",
     "output_type": "stream",
     "text": [
      "Not a valid key\n",
      "Monday\n"
     ]
    }
   ],
   "source": [
    "#Dictionaries\n",
    "Day_Dict = {\n",
    "    'Sun' : 'Sunday',\n",
    "    'Mon' : 'Monday',\n",
    "    'Tue' : \"Tuesday\",\n",
    "    'Wed' : 'Wednesday',\n",
    "    \"Thur\": 'Thursday',\n",
    "    \"Fri\" : 'Friday',\n",
    "    'Sat' : 'Saturday'\n",
    "}\n",
    "print(Day_Dict.get('Fry', \"Not a valid key\"))\n",
    "print(Day_Dict['Mon'])"
   ]
  },
  {
   "cell_type": "code",
   "execution_count": 71,
   "metadata": {},
   "outputs": [
    {
     "name": "stdout",
     "output_type": "stream",
     "text": [
      "1\n",
      "2\n",
      "3\n",
      "4\n",
      "5\n",
      "6\n",
      "7\n",
      "8\n",
      "9\n"
     ]
    }
   ],
   "source": [
    "#While Loops\n",
    "i = 1\n",
    "while i<10:\n",
    "    print(i)\n",
    "    i=i+1"
   ]
  },
  {
   "cell_type": "code",
   "execution_count": 74,
   "metadata": {},
   "outputs": [
    {
     "name": "stdout",
     "output_type": "stream",
     "text": [
      "People buy me to eat, but they never eat me...Who Am I ? \n",
      "Enter your guess: Spoon\n",
      "Enter your guess: Crocory\n",
      "Enter your guess: Glass\n",
      "You Lose !!\n"
     ]
    }
   ],
   "source": [
    "#Guessing Game\n",
    "word = \"Plate\"\n",
    "guess = \"\"\n",
    "chancesLeft = 3\n",
    "out_of_chances = False\n",
    "print(\"People buy me to eat, but they never eat me...Who Am I ? \")\n",
    "while guess!= word and not (out_of_chances):\n",
    "    if chancesLeft>0:\n",
    "        guess = input(\"Enter your guess: \")  \n",
    "        chancesLeft-=1\n",
    "    else:\n",
    "        out_of_chances=True\n",
    "if out_of_chances==True:\n",
    "    print(\"Out of chances !! You Lose !!\")\n",
    "else:\n",
    "    print(\"You Won !!\")"
   ]
  },
  {
   "cell_type": "code",
   "execution_count": 75,
   "metadata": {},
   "outputs": [
    {
     "name": "stdout",
     "output_type": "stream",
     "text": [
      "G\n",
      "i\n",
      "r\n",
      "a\n",
      "f\n",
      "f\n",
      "e\n"
     ]
    }
   ],
   "source": [
    "#For Loop\n",
    "for letter in 'Giraffe':\n",
    "    print(letter)"
   ]
  },
  {
   "cell_type": "code",
   "execution_count": 80,
   "metadata": {},
   "outputs": [
    {
     "name": "stdout",
     "output_type": "stream",
     "text": [
      "27\n"
     ]
    }
   ],
   "source": [
    "#Exponent Function\n",
    "def exp_fun(base_num, pow_num):\n",
    "    result =1\n",
    "    for num in range(0, pow_num):\n",
    "        result=result*base_num\n",
    "    return result\n",
    "print(exp_fun(3,3))"
   ]
  },
  {
   "cell_type": "code",
   "execution_count": 83,
   "metadata": {},
   "outputs": [
    {
     "name": "stdout",
     "output_type": "stream",
     "text": [
      "Enter your phrase: Egg\n",
      "ggg\n"
     ]
    }
   ],
   "source": [
    "#Building a translator\n",
    "def trans(phrase):\n",
    "    translation=\"\"\n",
    "    for letter in phrase:\n",
    "        if letter in \"AEIOUaeiou\":\n",
    "            translation = translation + \"g\"\n",
    "        else:\n",
    "            translation = translation + letter\n",
    "    return translation\n",
    "print(trans(input(\"Enter your phrase: \")))"
   ]
  },
  {
   "cell_type": "code",
   "execution_count": 88,
   "metadata": {},
   "outputs": [
    {
     "name": "stdout",
     "output_type": "stream",
     "text": [
      "division by zero\n"
     ]
    }
   ],
   "source": [
    "#Try n Except\n",
    "try:\n",
    "    b =10/0\n",
    "    a = int(input(\"Enter the number\"))\n",
    "    print(a)\n",
    "except ZeroDivisionError as err:\n",
    "    print(err)\n",
    "except ValueError:\n",
    "    print(\"Invalid input\")"
   ]
  },
  {
   "cell_type": "code",
   "execution_count": 99,
   "metadata": {},
   "outputs": [
    {
     "name": "stdout",
     "output_type": "stream",
     "text": [
      "True\n",
      "rgfprincv@rgf-hongkong.com\n",
      "\n",
      "[]\n"
     ]
    }
   ],
   "source": [
    "#Read from Files\n",
    "trakin = open(\"trakin.txt\", \"r\")\n",
    "print(trakin.readable()) #check if file is readable\n",
    "print(trakin.read()) #get information\n",
    "print(trakin.readline()) # read first line\n",
    "print(trakin.readlines()) # read all lines and put in array\n",
    "trakin.close()"
   ]
  },
  {
   "cell_type": "code",
   "execution_count": 103,
   "metadata": {},
   "outputs": [
    {
     "name": "stdout",
     "output_type": "stream",
     "text": [
      "rgfprincv@rgf-hongkong.comNew ContentNew ContentNew ContentNew Content\n"
     ]
    }
   ],
   "source": [
    "#Writing in the Files\n",
    "trakin = open(\"trakin.txt\", \"a\") # it appends the content Permanently\n",
    "trakin.write(\"New Content\")\n",
    "trakin.close()\n",
    "trakin = open(\"trakin.txt\", \"r\")\n",
    "print(trakin.read())\n",
    "trakin.close()\n",
    "trakin = open(\"trakin.txt\", \"w\") #It overwrites the content\n",
    "trakin.write(\"New\")\n",
    "trakin.close()"
   ]
  },
  {
   "cell_type": "code",
   "execution_count": 104,
   "metadata": {},
   "outputs": [
    {
     "name": "stdout",
     "output_type": "stream",
     "text": [
      "New\n"
     ]
    }
   ],
   "source": [
    "trakin = open(\"trakin.txt\", \"r\")\n",
    "print(trakin.read())\n",
    "trakin.close()"
   ]
  },
  {
   "cell_type": "code",
   "execution_count": 108,
   "metadata": {},
   "outputs": [],
   "source": [
    "#Modules in Python\n",
    "#-> Save the Python file (.py extension ) with the functionalities needed\n",
    "#-> import the same in the current file and access the functions and variables\n",
    "\n",
    "#PIP : Program Manager :: to install the external module\n",
    "#-> pip install modulename\n",
    "#-> pip uninstall modulename"
   ]
  },
  {
   "cell_type": "code",
   "execution_count": 113,
   "metadata": {},
   "outputs": [
    {
     "name": "stdout",
     "output_type": "stream",
     "text": [
      "('Kevin',)\n"
     ]
    }
   ],
   "source": [
    "#Class & Objects\n",
    "class Student:\n",
    "    def __init__(self, name, major, gpa):\n",
    "        self.name = name,\n",
    "        self.major = major,\n",
    "        self.gpa = gpa\n",
    "s1 = Student(\"Kevin\", \"M1\", 4.3)\n",
    "print(s1.name)"
   ]
  },
  {
   "cell_type": "code",
   "execution_count": 119,
   "metadata": {},
   "outputs": [
    {
     "name": "stdout",
     "output_type": "stream",
     "text": [
      "Class 2- function 2\n",
      "Class1 - function 1\n"
     ]
    }
   ],
   "source": [
    "# Inheritance\n",
    "\n",
    "class C1: \n",
    "    def f1():\n",
    "        print(\"Class1 - function 1\")\n",
    "class C2(C1):\n",
    "    def f2():\n",
    "        print(\"Class 2- function 2\")\n",
    "c1 = C2\n",
    "c1.f2()\n",
    "c1.f1()"
   ]
  },
  {
   "cell_type": "code",
   "execution_count": null,
   "metadata": {},
   "outputs": [],
   "source": []
  }
 ],
 "metadata": {
  "kernelspec": {
   "display_name": "Python 3",
   "language": "python",
   "name": "python3"
  },
  "language_info": {
   "codemirror_mode": {
    "name": "ipython",
    "version": 3
   },
   "file_extension": ".py",
   "mimetype": "text/x-python",
   "name": "python",
   "nbconvert_exporter": "python",
   "pygments_lexer": "ipython3",
   "version": "3.7.3"
  }
 },
 "nbformat": 4,
 "nbformat_minor": 2
}
